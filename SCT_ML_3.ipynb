{
  "nbformat": 4,
  "nbformat_minor": 0,
  "metadata": {
    "colab": {
      "provenance": [],
      "authorship_tag": "ABX9TyOA0sTruUQM90ZeZ7bGuTGy",
      "include_colab_link": true
    },
    "kernelspec": {
      "name": "python3",
      "display_name": "Python 3"
    },
    "language_info": {
      "name": "python"
    }
  },
  "cells": [
    {
      "cell_type": "markdown",
      "metadata": {
        "id": "view-in-github",
        "colab_type": "text"
      },
      "source": [
        "<a href=\"https://colab.research.google.com/github/Abyukth-DA-code/SCT_ML_3/blob/main/SCT_ML_3.ipynb\" target=\"_parent\"><img src=\"https://colab.research.google.com/assets/colab-badge.svg\" alt=\"Open In Colab\"/></a>"
      ]
    },
    {
      "cell_type": "code",
      "execution_count": 1,
      "metadata": {
        "colab": {
          "base_uri": "https://localhost:8080/"
        },
        "id": "ZyWRLJMt8oa4",
        "outputId": "a4a71318-355d-4342-b54c-ac5a48d781e3"
      },
      "outputs": [
        {
          "output_type": "stream",
          "name": "stdout",
          "text": [
            "Dataset loaded: (410, 4096) (410,)\n",
            "Accuracy: 0.4146341463414634\n",
            "              precision    recall  f1-score   support\n",
            "\n",
            "        cats       0.47      0.53      0.50        45\n",
            "        dogs       0.32      0.27      0.29        37\n",
            "\n",
            "    accuracy                           0.41        82\n",
            "   macro avg       0.40      0.40      0.40        82\n",
            "weighted avg       0.40      0.41      0.41        82\n",
            "\n"
          ]
        }
      ],
      "source": [
        "import os\n",
        "import cv2\n",
        "import numpy as np\n",
        "from sklearn.model_selection import train_test_split\n",
        "from sklearn.svm import SVC\n",
        "from sklearn.metrics import classification_report, accuracy_score\n",
        "import zipfile\n",
        "\n",
        "zip_path = \"sct3.zip\"\n",
        "extract_dir = \"sct3_extracted\"\n",
        "with zipfile.ZipFile(zip_path, 'r') as zip_ref:\n",
        "    zip_ref.extractall(extract_dir)\n",
        "\n",
        "data_dir = extract_dir   # main folder after extraction\n",
        "categories = [\"cats\", \"dogs\"]   # match folder names exactly\n",
        "\n",
        "X = []\n",
        "y = []\n",
        "\n",
        "IMG_SIZE = 64\n",
        "\n",
        "for category in categories:\n",
        "    folder = os.path.join(data_dir, category)\n",
        "    label = categories.index(category)   # cats=0, dogs=1\n",
        "    for img in os.listdir(folder):\n",
        "        img_path = os.path.join(folder, img)\n",
        "        try:\n",
        "            img_arr = cv2.imread(img_path, cv2.IMREAD_GRAYSCALE)   # grayscale\n",
        "            resized_arr = cv2.resize(img_arr, (IMG_SIZE, IMG_SIZE))  # resize\n",
        "            X.append(resized_arr.flatten())   # flatten 64x64 -> 4096 vector\n",
        "            y.append(label)\n",
        "        except Exception:\n",
        "            pass  # skip broken images\n",
        "\n",
        "X = np.array(X)\n",
        "y = np.array(y)\n",
        "\n",
        "print(\"Dataset loaded:\", X.shape, y.shape)\n",
        "\n",
        "# 2. Split into train & test\n",
        "X_train, X_test, y_train, y_test = train_test_split(X, y, test_size=0.2, random_state=42)\n",
        "\n",
        "# 3. Train SVM classifier\n",
        "svm = SVC(kernel=\"linear\", C=1.0)  # linear kernel works well for high-dim data\n",
        "svm.fit(X_train, y_train)\n",
        "\n",
        "# 4. Evaluate\n",
        "y_pred = svm.predict(X_test)\n",
        "print(\"Accuracy:\", accuracy_score(y_test, y_pred))\n",
        "print(classification_report(y_test, y_pred, target_names=categories))"
      ]
    },
    {
      "cell_type": "code",
      "source": [
        "import os\n",
        "\n",
        "print(\"Contents of sct3 folder:\", os.listdir(\"/content/sct3_extracted\"))"
      ],
      "metadata": {
        "colab": {
          "base_uri": "https://localhost:8080/"
        },
        "id": "OVgCIUnS-8Ax",
        "outputId": "d2ac4903-b540-48d8-fe78-fd935527ff8f"
      },
      "execution_count": 2,
      "outputs": [
        {
          "output_type": "stream",
          "name": "stdout",
          "text": [
            "Contents of sct3 folder: ['dogs', 'cats']\n"
          ]
        }
      ]
    },
    {
      "cell_type": "code",
      "source": [
        "def predict_image(image_path):\n",
        "    img = cv2.imread(image_path, cv2.IMREAD_GRAYSCALE)\n",
        "    if img is None:\n",
        "        raise ValueError(f\"❌ Could not load image at {image_path}. Check the path.\")\n",
        "\n",
        "    resized = cv2.resize(img, (IMG_SIZE, IMG_SIZE))\n",
        "    flattened = resized.flatten().reshape(1, -1)\n",
        "    prediction = svm.predict(flattened)[0]\n",
        "    return categories[prediction]\n",
        "\n",
        "# Example usage (make sure the file exists at this path)\n",
        "print(\"Prediction for sample image:\", predict_image(\"/content/sct3_extracted/dogs/125.jpg\"))"
      ],
      "metadata": {
        "colab": {
          "base_uri": "https://localhost:8080/"
        },
        "id": "JM8y3XFM_NQb",
        "outputId": "63df6618-39e7-427f-e9c7-0b59b595c2e9"
      },
      "execution_count": 5,
      "outputs": [
        {
          "output_type": "stream",
          "name": "stdout",
          "text": [
            "Prediction for sample image: dogs\n"
          ]
        }
      ]
    }
  ]
}